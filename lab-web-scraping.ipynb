{
  "cells": [
    {
      "cell_type": "markdown",
      "id": "7e7a1ab8-2599-417d-9a65-25ef07f3a786",
      "metadata": {
        "id": "7e7a1ab8-2599-417d-9a65-25ef07f3a786"
      },
      "source": [
        "# Lab | Web Scraping"
      ]
    },
    {
      "cell_type": "markdown",
      "id": "ce8882fc-4815-4567-92fa-b4816358ba7d",
      "metadata": {
        "id": "ce8882fc-4815-4567-92fa-b4816358ba7d"
      },
      "source": [
        "Welcome to the \"Books to Scrape\" Web Scraping Adventure Lab!\n",
        "\n",
        "**Objective**\n",
        "\n",
        "In this lab, we will embark on a mission to unearth valuable insights from the data available on Books to Scrape, an online platform showcasing a wide variety of books. As data analyst, you have been tasked with scraping a specific subset of book data from Books to Scrape to assist publishing companies in understanding the landscape of highly-rated books across different genres. Your insights will help shape future book marketing strategies and publishing decisions.\n",
        "\n",
        "**Background**\n",
        "\n",
        "In a world where data has become the new currency, businesses are leveraging big data to make informed decisions that drive success and profitability. The publishing industry, much like others, utilizes data analytics to understand market trends, reader preferences, and the performance of books based on factors such as genre, author, and ratings. Books to Scrape serves as a rich source of such data, offering detailed information about a diverse range of books, making it an ideal platform for extracting insights to aid in informed decision-making within the literary world.\n",
        "\n",
        "**Task**\n",
        "\n",
        "Your task is to create a Python script using BeautifulSoup and pandas to scrape Books to Scrape book data, focusing on book ratings and genres. The script should be able to filter books with ratings above a certain threshold and in specific genres. Additionally, the script should structure the scraped data in a tabular format using pandas for further analysis.\n",
        "\n",
        "**Expected Outcome**\n",
        "\n",
        "A function named `scrape_books` that takes two parameters: `min_rating` and `max_price`. The function should scrape book data from the \"Books to Scrape\" website and return a `pandas` DataFrame with the following columns:\n",
        "\n",
        "**Expected Outcome**\n",
        "\n",
        "- A function named `scrape_books` that takes two parameters: `min_rating` and `max_price`.\n",
        "- The function should return a DataFrame with the following columns:\n",
        "  - **UPC**: The Universal Product Code (UPC) of the book.\n",
        "  - **Title**: The title of the book.\n",
        "  - **Price (£)**: The price of the book in pounds.\n",
        "  - **Rating**: The rating of the book (1-5 stars).\n",
        "  - **Genre**: The genre of the book.\n",
        "  - **Availability**: Whether the book is in stock or not.\n",
        "  - **Description**: A brief description or product description of the book (if available).\n",
        "  \n",
        "You will execute this script to scrape data for books with a minimum rating of `4.0 and above` and a maximum price of `£20`. \n",
        "\n",
        "Remember to experiment with different ratings and prices to ensure your code is versatile and can handle various searches effectively!\n",
        "\n",
        "**Resources**\n",
        "\n",
        "- [Beautiful Soup Documentation](https://www.crummy.com/software/BeautifulSoup/bs4/doc/)\n",
        "- [Pandas Documentation](https://pandas.pydata.org/pandas-docs/stable/index.html)\n",
        "- [Books to Scrape](https://books.toscrape.com/)\n"
      ]
    },
    {
      "cell_type": "markdown",
      "id": "3519921d-5890-445b-9a33-934ed8ee378c",
      "metadata": {
        "id": "3519921d-5890-445b-9a33-934ed8ee378c"
      },
      "source": [
        "**Hint**\n",
        "\n",
        "Your first mission is to familiarize yourself with the **Books to Scrape** website. Navigate to [Books to Scrape](http://books.toscrape.com/) and explore the available books to understand their layout and structure. \n",
        "\n",
        "Next, think about how you can set parameters for your data extraction:\n",
        "\n",
        "- **Minimum Rating**: Focus on books with a rating of 4.0 and above.\n",
        "- **Maximum Price**: Filter for books priced up to £20.\n",
        "\n",
        "After reviewing the site, you can construct a plan for scraping relevant data. Pay attention to the details displayed for each book, including the title, price, rating, and availability. This will help you identify the correct HTML elements to target with your scraping script.\n",
        "\n",
        "Make sure to build your scraping URL and logic based on the patterns you observe in the HTML structure of the book listings!"
      ]
    },
    {
      "cell_type": "markdown",
      "id": "25a83a0d-a742-49f6-985e-e27887cbf922",
      "metadata": {
        "id": "25a83a0d-a742-49f6-985e-e27887cbf922"
      },
      "source": [
        "\n",
        "---\n",
        "\n",
        "**Best of luck! Immerse yourself in the world of books, and may the data be with you!**"
      ]
    },
    {
      "cell_type": "markdown",
      "id": "7b75cf0d-9afa-4eec-a9e2-befeac68b2a0",
      "metadata": {
        "id": "7b75cf0d-9afa-4eec-a9e2-befeac68b2a0"
      },
      "source": [
        "**Important Note**:\n",
        "\n",
        "In the fast-changing online world, websites often update and change their structures. When you try this lab, the **Books to Scrape** website might differ from what you expect.\n",
        "\n",
        "If you encounter issues due to these changes, like new rules or obstacles preventing data extraction, don’t worry! Get creative.\n",
        "\n",
        "You can choose another website that interests you and is suitable for scraping data. Options like Wikipedia, The New York Times, or even library databases are great alternatives. The main goal remains the same: extract useful data and enhance your web scraping skills while exploring a source of information you enjoy. This is your opportunity to practice and adapt to different web environments!"
      ]
    },
    {
      "cell_type": "code",
      "execution_count": 1,
      "id": "40359eee-9cd7-4884-bfa4-83344c222305",
      "metadata": {
        "id": "40359eee-9cd7-4884-bfa4-83344c222305"
      },
      "outputs": [],
      "source": [
        "import pandas as pd\n",
        "import requests\n",
        "from bs4 import BeautifulSoup\n",
        "from urllib.parse import urljoin\n",
        "import time\n"
      ]
    },
    {
      "cell_type": "code",
      "execution_count": 2,
      "id": "745b9f0f",
      "metadata": {},
      "outputs": [],
      "source": [
        "url = \"https://books.toscrape.com/catalogue/\"\n",
        "\n",
        "def get_book_url(url,page_nmbr = 5):\n",
        "    all_books_url =[]\n",
        "    for i in range(page_nmbr):\n",
        "        bk_lst_page_url = url+ 'category/books_1/page-'+ str(i+1)+'.html'\n",
        "        response = requests.get(bk_lst_page_url )\n",
        "        soup = BeautifulSoup(response.content)\n",
        "\n",
        "        tbls = soup.find_all('article', attrs={'class': 'product_pod'})\n",
        "        # print(tbls)\n",
        "        for line in tbls:\n",
        "            # print(line)\n",
        "            bk_link_tmp = line.find('div', attrs={'class':'image_container'}).find('a')['href']\n",
        "            bk_link = str(urljoin(bk_lst_page_url, bk_link_tmp))\n",
        "            all_books_url.append(bk_link)\n",
        "        time.sleep(2)\n",
        "    return all_books_url\n",
        "\n",
        "\n",
        "def get_bk_details(book_url_list):\n",
        "    all_books = []\n",
        "    for bk_url in book_url_list:\n",
        "        bk_details = BeautifulSoup(requests.get(bk_url).content)\n",
        "        # print(bk_details)\n",
        "        bk_price = bk_details.find('th', string='Price (incl. tax)').find_next_sibling('td').get_text().strip('£')\n",
        "        bk_UPC = bk_details.find('th', string='UPC').find_next_sibling('td').get_text().strip('')\n",
        "        bk_genre = bk_details.find('ul', attrs={'class':'breadcrumb'}).find_all('li')[2].find('a').get_text()\n",
        "\n",
        "        bk_Availability_tmp = str(bk_details.find('th', string='Availability').find_next_sibling('td').get_text().strip(''))\n",
        "\n",
        "        if 'In stock' in bk_Availability_tmp:\n",
        "            bk_Availability = 'yes'\n",
        "        else:\n",
        "            bk_Availability = 'no'\n",
        "        \n",
        "        bk_description = bk_details.find('meta', attrs={'name':'description'})['content'].strip('')\n",
        "        \n",
        "        bk_review = str(bk_details.find('div', attrs={'class':'col-sm-6 product_main'})\\\n",
        "            .find('p', class_='star-rating')['class'][1])\n",
        "        \n",
        "        bk_title = bk_details.find('div', attrs={'class':'col-sm-6 product_main'})\\\n",
        "            .find('h1').get_text()\n",
        "\n",
        "        book_record = {\n",
        "            'UPC': bk_UPC,\n",
        "            'Title': bk_title,\n",
        "            'Price (£)': bk_price,\n",
        "            'Rating': bk_review,\n",
        "            'Genre': bk_genre,\n",
        "            'Availability': bk_Availability,\n",
        "            'Description': bk_description,\n",
        "            'href': bk_url \n",
        "        }\n",
        "        # print(bk_url, bk_title, bk_price, bk_UPC,bk_Availability, bk_review, bk_genre) #bk_description, \n",
        "        all_books.append(book_record)\n",
        "        time.sleep(0.5)\n",
        "    return all_books\n",
        "\n",
        "def filter_book(rating_v, price_v, pages=2):\n",
        "    # urls = []\n",
        "    # all_book_json = []\n",
        "    urls = get_book_url(url,pages)\n",
        "    print(len(urls))\n",
        "    all_book_json = get_bk_details(urls)\n",
        "    df = pd.DataFrame(all_book_json)\n",
        "    review_map = {'One':1,'Two':2,'Three':3,'Four':4, 'Five':5}\n",
        "    df['Rating']=df['Rating'].replace(review_map).astype(int)\n",
        "    df['Price (£)']=df['Price (£)'].astype(float)\n",
        "\n",
        "    df_filtered = df[(df['Rating']>=rating_v) & (df['Price (£)']>=price_v)]\n",
        "    return df_filtered\n"
      ]
    },
    {
      "cell_type": "code",
      "execution_count": null,
      "id": "3d7cdf67",
      "metadata": {},
      "outputs": [
        {
          "name": "stdout",
          "output_type": "stream",
          "text": [
            "20\n",
            "                 UPC  \\\n",
            "0   a897fe39b1053632   \n",
            "3   e00eb4fd7b871a48   \n",
            "4   4165285e1663650f   \n",
            "6   2597b5a345f45e1b   \n",
            "13  3b1c02bac2a429e6   \n",
            "14  a34ba96d4081e6a4   \n",
            "15  deda3e61b9514b83   \n",
            "\n",
            "                                                                                 Title  \\\n",
            "0                                                                 A Light in the Attic   \n",
            "3                                                                        Sharp Objects   \n",
            "4                                                Sapiens: A Brief History of Humankind   \n",
            "6                                   The Dirty Little Secrets of Getting Your Dream Job   \n",
            "13                             Scott Pilgrim's Precious Little Life (Scott Pilgrim #1)   \n",
            "14                                                           Rip it Up and Start Again   \n",
            "15  Our Band Could Be Your Life: Scenes from the American Indie Underground, 1981-1991   \n",
            "\n",
            "    Price (£)  Rating           Genre Availability  \\\n",
            "0       51.77       3          Poetry          yes   \n",
            "3       47.82       4         Mystery          yes   \n",
            "4       54.23       5         History          yes   \n",
            "6       33.34       4        Business          yes   \n",
            "13      52.29       5  Sequential Art          yes   \n",
            "14      35.02       5           Music          yes   \n",
            "15      57.25       3           Music          yes   \n",
            "\n",
            "                                                                                                                                                                                                                                                                                                                                                                                                                                                                                                                                                                                                                                                                                                                                                                                                                                                                                                                                                                                                                                                                                                                                                                                                                                                                                                                                                                                                                                                                                                                                                                                                                                                                                                                                                                                                                                                                                                                                                                                                                          Description  \\\n",
            "0                                                                                                                                                                                                                                                                                                                                                                                                                                                                                                                                                                                                                                                                                                                                                                                                                                                                                                                                                                   \\n    It's hard to imagine a world without A Light in the Attic. This now-classic collection of poetry and drawings from Shel Silverstein celebrates its 20th anniversary with this special edition. Silverstein's humorous and creative verse can amuse the dowdiest of readers. Lemon-faced adults and fidgety kids sit still and read these rhythmic words and laugh and smile and love th It's hard to imagine a world without A Light in the Attic. This now-classic collection of poetry and drawings from Shel Silverstein celebrates its 20th anniversary with this special edition. Silverstein's humorous and creative verse can amuse the dowdiest of readers. Lemon-faced adults and fidgety kids sit still and read these rhythmic words and laugh and smile and love that Silverstein. Need proof of his genius? RockabyeRockabye baby, in the treetopDon't you know a treetopIs no safe place to rock?And who put you up there,And your cradle, too?Baby, I think someone down here'sGot it in for you. Shel, you never sounded so good. ...more\\n   \n",
            "3                                                                                                                                                                                                                                                                                                                         \\n    WICKED above her hipbone, GIRL across her heart Words are like a road map to reporter Camille Preaker’s troubled past. Fresh from a brief stay at a psych hospital, Camille’s first assignment from the second-rate daily paper where she works brings her reluctantly back to her hometown to cover the murders of two preteen girls. NASTY on her kneecap, BABYDOLL on her leg Since WICKED above her hipbone, GIRL across her heart Words are like a road map to reporter Camille Preaker’s troubled past. Fresh from a brief stay at a psych hospital, Camille’s first assignment from the second-rate daily paper where she works brings her reluctantly back to her hometown to cover the murders of two preteen girls. NASTY on her kneecap, BABYDOLL on her leg Since she left town eight years ago, Camille has hardly spoken to her neurotic, hypochondriac mother or to the half-sister she barely knows: a beautiful thirteen-year-old with an eerie grip on the town. Now, installed again in her family’s Victorian mansion, Camille is haunted by the childhood tragedy she has spent her whole life trying to cut from her memory. HARMFUL on her wrist, WHORE on her ankle As Camille works to uncover the truth about these violent crimes, she finds herself identifying with the young victims—a bit too strongly. Clues keep leading to dead ends, forcing Camille to unravel the psychological puzzle of her own past to get at the story. Dogged by her own demons, Camille will have to confront what happened to her years before if she wants to survive this homecoming.With its taut, crafted writing, Sharp Objects is addictive, haunting, and unforgettable. ...more\\n   \n",
            "4   \\n    From a renowned historian comes a groundbreaking narrative of humanity’s creation and evolution—a #1 international bestseller—that explores the ways in which biology and history have defined us and enhanced our understanding of what it means to be “human.”One hundred thousand years ago, at least six different species of humans inhabited Earth. Yet today there is only one—h From a renowned historian comes a groundbreaking narrative of humanity’s creation and evolution—a #1 international bestseller—that explores the ways in which biology and history have defined us and enhanced our understanding of what it means to be “human.”One hundred thousand years ago, at least six different species of humans inhabited Earth. Yet today there is only one—homo sapiens. What happened to the others? And what may happen to us?Most books about the history of humanity pursue either a historical or a biological approach, but Dr. Yuval Noah Harari breaks the mold with this highly original book that begins about 70,000 years ago with the appearance of modern cognition. From examining the role evolving humans have played in the global ecosystem to charting the rise of empires, Sapiens integrates history and science to reconsider accepted narratives, connect past developments with contemporary concerns, and examine specific events within the context of larger ideas.Dr. Harari also compels us to look ahead, because over the last few decades humans have begun to bend laws of natural selection that have governed life for the past four billion years. We are acquiring the ability to design not only the world around us, but also ourselves. Where is this leading us, and what do we want to become?Featuring 27 photographs, 6 maps, and 25 illustrations/diagrams, this provocative and insightful work is sure to spark debate and is essential reading for aficionados of Jared Diamond, James Gleick, Matt Ridley, Robert Wright, and Sharon Moalem. ...more\\n   \n",
            "6                                                                                           \\n    Drawing on his extensive experience evaluating applicants for his marketing agency, and featuring stories based on real-life situations, sample cover letters, resumes, and straightforward advice, Don Raskin’s The Dirty Little Secrets of Getting Your Dream Job offers all the necessary tools for navigating the tough job market and securing your dream job.Don Raskin owns and Drawing on his extensive experience evaluating applicants for his marketing agency, and featuring stories based on real-life situations, sample cover letters, resumes, and straightforward advice, Don Raskin’s The Dirty Little Secrets of Getting Your Dream Job offers all the necessary tools for navigating the tough job market and securing your dream job.Don Raskin owns and operates MME, an advertising and marketing agency in New York City. During his twenty-five years at the agency he has interviewed hundreds of new college graduates for positions within his agency and has placed a strong emphasis on entry-level recruitment for positions in creative, account management, traffic, and production. Raskin has also mentored countless students and their parents on best practices for the job search. Over the years, Raskin has kept exceptionally detailed notes on the interviews he has conducted, observing the good, the bad, the ridiculous, the irreverent. He also has a treasure trove of over-the-top cover letters, resumes, interviews, and post interview follow-ups he has conducted and received. Now, he wants to share all the wisdom and insider secrets he has gathered to help students and first-time job seekers find a job in this economy.Based on his remarkable expertise, Raskin's book provides exclusive insight into the job search process and lets readers in on all of the dirty little secrets to landing their first job—or a new one—and finding career success. ...more\\n   \n",
            "13                                                                                                                                                                                                                                                                                                                                                                                                                                                                                                                                                                                                                                                                                                                                                                                                                                                                                                                                                                                                                                      \\n    Scott Pilgrim's life is totally sweet. He's 23 years old, he's in a rockband, he's \"between jobs\" and he's dating a cute high school girl. Nothing could possibly go wrong, unless a seriously mind-blowing, dangerously fashionable, rollerblading delivery girl named Ramona Flowers starts cruising through his dreams and sailing by him at parties. Will Scott's awesome life get Scott Pilgrim's life is totally sweet. He's 23 years old, he's in a rockband, he's \"between jobs\" and he's dating a cute high school girl. Nothing could possibly go wrong, unless a seriously mind-blowing, dangerously fashionable, rollerblading delivery girl named Ramona Flowers starts cruising through his dreams and sailing by him at parties. Will Scott's awesome life get turned upside-down? Will he have to face Ramona's seven evil ex-boyfriends in battle? The short answer is yes. The long answer is Scott Pilgrim, Volume 1: Scott Pilgrim's Precious Little Life ...more\\n   \n",
            "14                                                                                                                                                                                                                                                                                                                                                                                                                                                                                                                                                                                                                                                                                                                                                                                                                                                                                                                                                                                                                                                   \\n    Punk's raw power rejuvenated rock, but by the summer of 1977 the movement had become a parody of itself. RIP IT UP AND START AGAIN is a celebration of what happened next.Post-punk bands like PiL, Joy Division, Talking Heads, The Fall and The Human League dedicated themselves to fulfilling punk's unfinished musical revolution. The post-punk groups were fervent modernists; w Punk's raw power rejuvenated rock, but by the summer of 1977 the movement had become a parody of itself. RIP IT UP AND START AGAIN is a celebration of what happened next.Post-punk bands like PiL, Joy Division, Talking Heads, The Fall and The Human League dedicated themselves to fulfilling punk's unfinished musical revolution. The post-punk groups were fervent modernists; whether experimenting with electronics and machine rhythm or adapting ideas from dub reggae and disco, they were totally confident they could invent a whole new future for music. ...more\\n   \n",
            "15                                                                                                                                                                                                                                                                                                                                                                                                                                                                                                                                                                                                                                                                                                                                                                                                                                                       \\n    This is the never-before-told story of the musical revolution that happened right under the nose of the Reagan Eighties--when a small but sprawling network of bands, labels, fanzines, radio stations, and other subversives reenergized American rock with punk rock's do-it-yourself credo and created music that was deeply personal, often brilliant, always challenging, and imme This is the never-before-told story of the musical revolution that happened right under the nose of the Reagan Eighties--when a small but sprawling network of bands, labels, fanzines, radio stations, and other subversives reenergized American rock with punk rock's do-it-yourself credo and created music that was deeply personal, often brilliant, always challenging, and immensely influential. This sweeping chronicle of music, politics, drugs, fear, loathing, and faith has been recognized as an indie rock classic in its own right. Among the bands profiled: Mission of Burma, Butthole Surfers, The Minutemen, Sonic Youth, Black Flag, Big Black, Hüsker Dü, Fugazi, Minor Threat, Mudhoney, The Replacements, Beat Happening, and Dinosaur Jr. ...more\\n   \n",
            "\n",
            "                                                                                                                                    href  \n",
            "0                                                              https://books.toscrape.com/catalogue/a-light-in-the-attic_1000/index.html  \n",
            "3                                                                      https://books.toscrape.com/catalogue/sharp-objects_997/index.html  \n",
            "4                                               https://books.toscrape.com/catalogue/sapiens-a-brief-history-of-humankind_996/index.html  \n",
            "6                                 https://books.toscrape.com/catalogue/the-dirty-little-secrets-of-getting-your-dream-job_994/index.html  \n",
            "13                               https://books.toscrape.com/catalogue/scott-pilgrims-precious-little-life-scott-pilgrim-1_987/index.html  \n",
            "14                                                         https://books.toscrape.com/catalogue/rip-it-up-and-start-again_986/index.html  \n",
            "15  https://books.toscrape.com/catalogue/our-band-could-be-your-life-scenes-from-the-american-indie-underground-1981-1991_985/index.html  \n"
          ]
        },
        {
          "name": "stderr",
          "output_type": "stream",
          "text": [
            "/var/folders/lw/14dpn8b91z99svtdtfqnx09800tlp4/T/ipykernel_90405/2618980314.py:68: FutureWarning: Downcasting behavior in `replace` is deprecated and will be removed in a future version. To retain the old behavior, explicitly call `result.infer_objects(copy=False)`. To opt-in to the future behavior, set `pd.set_option('future.no_silent_downcasting', True)`\n",
            "  df['Rating']=df['Rating'].replace(review_map).astype(int)\n"
          ]
        }
      ],
      "source": [
        "pd.set_option('display.max_colwidth', None)\n",
        "\n",
        "final_df = filter_book(rating_v=3, price_v = 25, pages = 1)\n",
        "print(final_df)"
      ]
    },
    {
      "cell_type": "markdown",
      "id": "14aec14c",
      "metadata": {},
      "source": [
        "#### Test Code"
      ]
    },
    {
      "cell_type": "code",
      "execution_count": 4,
      "id": "7e152c04",
      "metadata": {},
      "outputs": [],
      "source": [
        "\n",
        "\n",
        "# url = \"https://books.toscrape.com/catalogue/\"\n",
        "# bk_lst_url = url+ 'category/books_1/page-'+ '1'+'.html' #'/catalogue/category/books_1/page-5.html'\n",
        "# print(bk_lst_url)\n",
        "# review_map = {'One':1,'Two':2,'Three':3,'Four':4, 'Five':5}\n",
        "\n",
        "# response = requests.get(bk_lst_url )\n",
        "# # response = requests.get(url + '/catalogue/category/books_1/page-'+ '1'+'.html')\n",
        "# soup = BeautifulSoup(response.content)\n",
        "# tbls = soup.find_all('article', attrs={'class': 'product_pod'})\n",
        "# df = pd.DataFrame(columns=['UPC','Title','Price (£)','Rating','Genre','Availability','Description'])\n",
        "# all_books = []\n",
        "# for line in tbls:\n",
        "#     bk_link_tmp = [x['href'] for x in line.select('h3 a')][0]\n",
        "#     bk_link = urljoin(bk_lst_url, bk_link_tmp)\n",
        "#     # bk_title = [x['title'] for x in line.select('h3 a')][0]\n",
        "#     bk_details = BeautifulSoup(requests.get(bk_link).content)\n",
        "#     # print(bk_details)\n",
        "#     bk_price = bk_details.find('th', string='Price (incl. tax)').find_next_sibling('td').get_text().strip('£')\n",
        "#     bk_UPC = bk_details.find('th', string='UPC').find_next_sibling('td').get_text().strip('')\n",
        "#     bk_genre = bk_details.find('ul', attrs={'class':'breadcrumb'}).find_all('li')[2].find('a').get_text()\n",
        "\n",
        "#     bk_Availability_tmp = str(bk_details.find('th', string='Availability').find_next_sibling('td').get_text().strip(''))\n",
        "\n",
        "#     if 'In stock' in bk_Availability_tmp:\n",
        "#         bk_Availability = 'yes'\n",
        "#     else:\n",
        "#         bk_Availability = 'no'\n",
        "    \n",
        "#     # bk_description = bk_details.find('article', attrs={'class': 'product_page'})\\\n",
        "#     #     .find('div', attrs={'id':'product_description'})\\\n",
        "#     #         .find_next('p').get_text().strip()\n",
        "\n",
        "#     desc = bk_details.find('meta', attrs={'name':'description'})['content'].strip('')\n",
        "#     print(desc)\n",
        "#     bk_review = str(bk_details.find('div', attrs={'class':'col-sm-6 product_main'})\\\n",
        "#         .find('p', class_='star-rating')['class'][1])\n",
        "    \n",
        "#     bk_title = bk_details.find('div', attrs={'class':'col-sm-6 product_main'})\\\n",
        "#         .find('h1').get_text()\n",
        "\n",
        "#     book_record = {\n",
        "#         'UPC': bk_UPC,\n",
        "#         'Title': bk_title,\n",
        "#         'Price (£)': bk_price,\n",
        "#         'Rating': bk_review,\n",
        "#         'Genre': bk_genre,\n",
        "#         'Availability': bk_Availability,\n",
        "#         'Description': bk_description,\n",
        "#         'href': bk_link \n",
        "#     }\n",
        "#     print(bk_link, bk_title, bk_price, bk_UPC,bk_Availability, bk_review, bk_genre) #bk_description, \n",
        "#     all_books.append(book_record)\n",
        "#     break\n"
      ]
    }
  ],
  "metadata": {
    "colab": {
      "provenance": []
    },
    "kernelspec": {
      "display_name": "3.9.2",
      "language": "python",
      "name": "python3"
    },
    "language_info": {
      "codemirror_mode": {
        "name": "ipython",
        "version": 3
      },
      "file_extension": ".py",
      "mimetype": "text/x-python",
      "name": "python",
      "nbconvert_exporter": "python",
      "pygments_lexer": "ipython3",
      "version": "3.9.2"
    }
  },
  "nbformat": 4,
  "nbformat_minor": 5
}
